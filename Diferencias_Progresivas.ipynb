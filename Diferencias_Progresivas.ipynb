{
  "nbformat": 4,
  "nbformat_minor": 0,
  "metadata": {
    "colab": {
      "provenance": [],
      "authorship_tag": "ABX9TyOuik/lP9r7oVtZfq1rtk0Y",
      "include_colab_link": true
    },
    "kernelspec": {
      "name": "python3",
      "display_name": "Python 3"
    },
    "language_info": {
      "name": "python"
    }
  },
  "cells": [
    {
      "cell_type": "markdown",
      "metadata": {
        "id": "view-in-github",
        "colab_type": "text"
      },
      "source": [
        "<a href=\"https://colab.research.google.com/github/negrete-93/Diferencias-progresivas/blob/main/Diferencias_Progresivas.ipynb\" target=\"_parent\"><img src=\"https://colab.research.google.com/assets/colab-badge.svg\" alt=\"Open In Colab\"/></a>"
      ]
    },
    {
      "cell_type": "markdown",
      "source": [
        "# **Diferencias progresivas**\n",
        "Las diferencias progresivas son una forma de aproximar una derivada (o el cambio de una cantidad) usando los valores conocidos de una función en puntos consecutivos.Sirven para reemplazar derivadas por diferencias cuando queremos resolver el problema en una computadora, que solo puede trabajar con valores discretos (números, no funciones continuas)."
      ],
      "metadata": {
        "id": "3z2lTHVTPLtm"
      }
    }
  ]
}